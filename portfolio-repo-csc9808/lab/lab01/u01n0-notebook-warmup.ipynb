{
 "cells": [
  {
   "cell_type": "markdown",
   "id": "f22c40bb",
   "metadata": {},
   "source": [
    "# Jupyter Notebook Warmup"
   ]
  },
  {
   "cell_type": "markdown",
   "id": "267023a4",
   "metadata": {},
   "source": [
    "## Environment check\n",
    "\n",
    "Run the following cell to check that your environment is set up properly."
   ]
  },
  {
   "cell_type": "code",
   "execution_count": 2,
   "id": "366c98f1",
   "metadata": {},
   "outputs": [],
   "source": [
    "from fastbook import *\n",
    "pip_path = !which pip\n",
    "assert 'conda' in pip_path[0], \"pip path should include conda\""
   ]
  },
  {
   "cell_type": "markdown",
   "id": "e3312381",
   "metadata": {},
   "source": [
    "On the lab computers, this should display `True`:"
   ]
  },
  {
   "cell_type": "code",
   "execution_count": 3,
   "id": "bd49fe15",
   "metadata": {},
   "outputs": [
    {
     "data": {
      "text/plain": [
       "True"
      ]
     },
     "execution_count": 3,
     "metadata": {},
     "output_type": "execute_result"
    }
   ],
   "source": [
    "torch.cuda.is_available()"
   ]
  },
  {
   "cell_type": "markdown",
   "id": "9be596c7",
   "metadata": {},
   "source": [
    "Anyone running locally on macOS CPU will need this code; generally you should be using the lab machines though:"
   ]
  },
  {
   "cell_type": "code",
   "execution_count": null,
   "id": "2349e595",
   "metadata": {},
   "outputs": [],
   "source": [
    "import sys\n",
    "if sys.platform == \"darwin\":\n",
    "    # https://stackoverflow.com/a/64855500/69707\n",
    "    import os\n",
    "    os.environ['OMP_NUM_THREADS'] = '1'"
   ]
  },
  {
   "cell_type": "markdown",
   "id": "076d3d3e",
   "metadata": {},
   "source": [
    "## Jupyter Notebooks"
   ]
  },
  {
   "cell_type": "code",
   "execution_count": 4,
   "id": "3ba33517",
   "metadata": {},
   "outputs": [
    {
     "name": "stdout",
     "output_type": "stream",
     "text": [
      "2\n"
     ]
    }
   ],
   "source": [
    "print(1+1)"
   ]
  },
  {
   "cell_type": "markdown",
   "id": "5387ef2b",
   "metadata": {},
   "source": [
    "This is **bold**"
   ]
  },
  {
   "cell_type": "markdown",
   "id": "5c021fc3",
   "metadata": {},
   "source": [
    "This is *Italic*"
   ]
  },
  {
   "cell_type": "markdown",
   "id": "6c3275e2",
   "metadata": {},
   "source": [
    "This is a [link to Calvin's website](https://calvin.edu/)"
   ]
  },
  {
   "cell_type": "code",
   "execution_count": 7,
   "id": "5dd54b45",
   "metadata": {
    "scrolled": true
   },
   "outputs": [
    {
     "name": "stdout",
     "output_type": "stream",
     "text": [
      "Something\n"
     ]
    },
    {
     "data": {
      "text/plain": [
       "4.0"
      ]
     },
     "execution_count": 7,
     "metadata": {},
     "output_type": "execute_result"
    }
   ],
   "source": [
    "x = 1.0\n",
    "x * 2\n",
    "print(\"Something\")\n",
    "x = x * 2\n",
    "x * 2"
   ]
  },
  {
   "cell_type": "markdown",
   "id": "4764e0d5",
   "metadata": {},
   "source": [
    "The **Rule Here** is that assignments don't get printed. The **final** operation gets printed."
   ]
  },
  {
   "cell_type": "code",
   "execution_count": null,
   "id": "4188a1d2",
   "metadata": {},
   "outputs": [],
   "source": []
  }
 ],
 "metadata": {
  "kernelspec": {
   "display_name": "Python 3 (ipykernel)",
   "language": "python",
   "name": "python3"
  },
  "language_info": {
   "codemirror_mode": {
    "name": "ipython",
    "version": 3
   },
   "file_extension": ".py",
   "mimetype": "text/x-python",
   "name": "python",
   "nbconvert_exporter": "python",
   "pygments_lexer": "ipython3",
   "version": "3.9.12"
  }
 },
 "nbformat": 4,
 "nbformat_minor": 5
}
