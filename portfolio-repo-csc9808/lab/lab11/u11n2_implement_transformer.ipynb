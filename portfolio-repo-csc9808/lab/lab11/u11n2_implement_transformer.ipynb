{
  "cells": [
    {
      "cell_type": "markdown",
      "metadata": {
        "id": "HXSpJiwx9hXF"
      },
      "source": [
        "# Implementing self-attention\n",
        "\n",
        "Let's implement a Transformer. Don't worry, we can do this."
      ]
    },
    {
      "cell_type": "markdown",
      "metadata": {
        "id": "5ygGdmg89hXI"
      },
      "source": [
        "## Setup"
      ]
    },
    {
      "cell_type": "code",
      "execution_count": 1,
      "metadata": {
        "id": "JVmTB0Tx9hXJ"
      },
      "outputs": [],
      "source": [
        "import torch\n",
        "import torch.nn as nn\n",
        "import torch.nn.functional as F\n",
        "import pandas as pd\n",
        "import matplotlib.pyplot as plt\n",
        "from IPython.display import display\n",
        "\n",
        "def num_parameters(model):\n",
        "    \"\"\"Count the number of trainable parameters in a model\"\"\"\n",
        "    return sum(param.numel() for param in model.parameters() if param.requires_grad)"
      ]
    },
    {
      "cell_type": "markdown",
      "metadata": {
        "id": "_XypdvJy9hXJ"
      },
      "source": [
        "## Getting started\n",
        "\n",
        "Let's start with an input sequence."
      ]
    },
    {
      "cell_type": "code",
      "execution_count": 2,
      "metadata": {
        "id": "gm_uZ6WS9hXK"
      },
      "outputs": [],
      "source": [
        "sentence = \"Transformed.\""
      ]
    },
    {
      "cell_type": "markdown",
      "metadata": {
        "id": "BtddyBEa9hXK"
      },
      "source": [
        "Let's turn it into numbers by using the Unicode code point for each character. To keep things simple, we won't batch anything."
      ]
    },
    {
      "cell_type": "code",
      "execution_count": 3,
      "metadata": {
        "id": "poAO7b5V9hXK",
        "outputId": "ee6dc4e9-e42a-41aa-ac87-eaf3e2d847f3",
        "colab": {
          "base_uri": "https://localhost:8080/"
        }
      },
      "outputs": [
        {
          "output_type": "execute_result",
          "data": {
            "text/plain": [
              "tensor([ 84, 114,  97, 110, 115, 102, 111, 114, 109, 101, 100,  46])"
            ]
          },
          "metadata": {},
          "execution_count": 3
        }
      ],
      "source": [
        "sentence_tensor = torch.tensor([ord(x) for x in sentence])\n",
        "sentence_tensor"
      ]
    },
    {
      "cell_type": "code",
      "execution_count": 4,
      "metadata": {
        "id": "w0inY8Dm9hXL",
        "outputId": "cd532c3b-17e5-4fd5-a812-934b88d0e7c0",
        "colab": {
          "base_uri": "https://localhost:8080/",
          "height": 36
        }
      },
      "outputs": [
        {
          "output_type": "execute_result",
          "data": {
            "text/plain": [
              "'Transformed.'"
            ],
            "application/vnd.google.colaboratory.intrinsic+json": {
              "type": "string"
            }
          },
          "metadata": {},
          "execution_count": 4
        }
      ],
      "source": [
        "def decode(x):\n",
        "    return ''.join(chr(x) for x in x.numpy())\n",
        "decode(sentence_tensor)"
      ]
    },
    {
      "cell_type": "markdown",
      "metadata": {
        "id": "y-awcvhh9hXL"
      },
      "source": [
        "We'll make this an autoregressive language model, so our goal will be to predict the next character. So we'll need to shift the targets left, so each character should output the next one."
      ]
    },
    {
      "cell_type": "code",
      "execution_count": 5,
      "metadata": {
        "id": "44OtIJST9hXM"
      },
      "outputs": [],
      "source": [
        "targets = sentence_tensor[1:]\n",
        "input_ids = sentence_tensor[:-1]\n",
        "assert input_ids.shape == targets.shape"
      ]
    },
    {
      "cell_type": "markdown",
      "metadata": {
        "id": "TKiTNCd39hXM"
      },
      "source": [
        "Now let's make those numbers into vectors using an embedding. Note that we're just going to use the random initialization right now; we're not yet training this model."
      ]
    },
    {
      "cell_type": "markdown",
      "metadata": {
        "id": "Ae8o8X6L9hXM"
      },
      "source": [
        "# Embeddings"
      ]
    },
    {
      "cell_type": "markdown",
      "metadata": {
        "id": "AfnIGy6M9hXM"
      },
      "source": [
        "A big chunk of the parameters of a model come from the *word embeddings*. Let's see an example.\n",
        "\n",
        "We'll use a vocabulary size of 256 (very small, but enough to store individual *bytes*) and an embedding dimensionality of 5 (also *very* small).\n",
        "\n",
        "(Note: we'll still call these *word* embeddings even though we'll actually use them as embeddings for individual *characters*.)"
      ]
    },
    {
      "cell_type": "code",
      "execution_count": 6,
      "metadata": {
        "id": "WGrVfMBL9hXM",
        "outputId": "9b932b62-87c2-4d04-b24b-0fbca38abacc",
        "colab": {
          "base_uri": "https://localhost:8080/"
        }
      },
      "outputs": [
        {
          "output_type": "execute_result",
          "data": {
            "text/plain": [
              "torch.Size([256, 5])"
            ]
          },
          "metadata": {},
          "execution_count": 6
        }
      ],
      "source": [
        "n_vocab = 256\n",
        "emb_dim = 5\n",
        "embedder = nn.Embedding(n_vocab, emb_dim)\n",
        "embedder.weight.shape"
      ]
    },
    {
      "cell_type": "markdown",
      "metadata": {
        "id": "HV5NHqKm9hXN"
      },
      "source": [
        "How many parameters are needed for the word embeddings?"
      ]
    },
    {
      "cell_type": "code",
      "execution_count": 7,
      "metadata": {
        "id": "1yk7xyUo9hXN",
        "outputId": "97833004-6407-4f66-a16c-ee2021b1ed32",
        "colab": {
          "base_uri": "https://localhost:8080/"
        }
      },
      "outputs": [
        {
          "output_type": "execute_result",
          "data": {
            "text/plain": [
              "1280"
            ]
          },
          "metadata": {},
          "execution_count": 7
        }
      ],
      "source": [
        "num_parameters(embedder)"
      ]
    },
    {
      "cell_type": "markdown",
      "metadata": {
        "id": "y0BpslRL9hXN"
      },
      "source": [
        "## Complete but vacuous model"
      ]
    },
    {
      "cell_type": "markdown",
      "metadata": {
        "id": "6K2vLKt-9hXN"
      },
      "source": [
        "We'll now define a model that has the outward structure of a language model, but without any internal processing."
      ]
    },
    {
      "cell_type": "code",
      "execution_count": 8,
      "metadata": {
        "id": "5ejR4CiE9hXN",
        "outputId": "5f9b16fc-7c0c-4501-edcf-30b3635d55fb",
        "colab": {
          "base_uri": "https://localhost:8080/"
        }
      },
      "outputs": [
        {
          "output_type": "execute_result",
          "data": {
            "text/plain": [
              "1280"
            ]
          },
          "metadata": {},
          "execution_count": 8
        }
      ],
      "source": [
        "class BareBonesLM(nn.Module):\n",
        "    def __init__(self, n_vocab, emb_dim, tie_weights=True, bias=False):\n",
        "        super().__init__()\n",
        "        self.word_to_embedding = nn.Embedding(n_vocab, emb_dim)\n",
        "        self.lm_head = nn.Linear(emb_dim, n_vocab, bias=bias)\n",
        "\n",
        "        if tie_weights:\n",
        "            assert self.lm_head.weight.shape == self.word_to_embedding.weight.shape\n",
        "            self.lm_head.weight = self.word_to_embedding.weight\n",
        "    \n",
        "    def forward(self, input_ids):\n",
        "        input_embeds = self.word_to_embedding(input_ids)\n",
        "        x = input_embeds # model would go here\n",
        "        logits = self.lm_head(x)\n",
        "        return logits\n",
        "\n",
        "\n",
        "num_parameters(BareBonesLM(n_vocab=n_vocab, emb_dim=emb_dim))"
      ]
    },
    {
      "cell_type": "markdown",
      "metadata": {
        "id": "1PRWNgkU9hXO"
      },
      "source": [
        "## Multi-Layer Perceptron\n",
        "\n",
        "Now let's start putting a model in there. Let's start with the simple MLP that we looked at in previous Fundamentals. We'll define it as a PyTorch `Module`:"
      ]
    },
    {
      "cell_type": "code",
      "execution_count": 10,
      "metadata": {
        "id": "8G3DrbXa9hXO",
        "outputId": "5f5374cd-592b-4b4c-9c49-7febc781ddf9",
        "colab": {
          "base_uri": "https://localhost:8080/"
        }
      },
      "outputs": [
        {
          "output_type": "execute_result",
          "data": {
            "text/plain": [
              "181"
            ]
          },
          "metadata": {},
          "execution_count": 10
        }
      ],
      "source": [
        "class MLP(nn.Module):\n",
        "    def __init__(self, emb_dim, n_hidden):\n",
        "        super().__init__()\n",
        "\n",
        "        self.model = nn.Sequential(\n",
        "            nn.Linear(in_features=emb_dim, out_features=n_hidden),\n",
        "            nn.ReLU(), # or nn.GELU() or others\n",
        "            nn.Linear(in_features=n_hidden, out_features=emb_dim)\n",
        "        )\n",
        "\n",
        "    def forward(self, x):\n",
        "        return self.model(x)\n",
        "\n",
        "num_parameters(MLP(emb_dim=emb_dim, n_hidden=16))"
      ]
    },
    {
      "cell_type": "markdown",
      "metadata": {
        "id": "HZuGEAh59hXO"
      },
      "source": [
        "### Complete Language Model with MLP\n",
        "\n",
        "Now let's put that into an LM. Notice what's similar and what's different between this and the `BareBonesLM` above."
      ]
    },
    {
      "cell_type": "code",
      "execution_count": 11,
      "metadata": {
        "id": "Olf7qlbX9hXO",
        "outputId": "a2436986-9d83-40de-8f4a-5a0fbdf1574c",
        "colab": {
          "base_uri": "https://localhost:8080/"
        }
      },
      "outputs": [
        {
          "output_type": "execute_result",
          "data": {
            "text/plain": [
              "1461"
            ]
          },
          "metadata": {},
          "execution_count": 11
        }
      ],
      "source": [
        "class FeedForwardLM(nn.Module):\n",
        "    def __init__(self, n_vocab, emb_dim, n_hidden, tie_weights=True):\n",
        "        super().__init__()\n",
        "        self.word_to_embedding = nn.Embedding(n_vocab, emb_dim)\n",
        "        self.model = MLP(emb_dim=emb_dim, n_hidden=n_hidden)\n",
        "        self.lm_head = nn.Linear(emb_dim, n_vocab, bias=False)\n",
        "\n",
        "        if tie_weights:\n",
        "            assert self.lm_head.weight.shape == self.word_to_embedding.weight.shape\n",
        "            self.lm_head.weight = self.word_to_embedding.weight\n",
        "    \n",
        "    def forward(self, input_ids):\n",
        "        input_embeds = self.word_to_embedding(input_ids)\n",
        "        x = self.model(input_embeds)\n",
        "        return self.lm_head(x)\n",
        "\n",
        "\n",
        "ff_lm = FeedForwardLM(n_vocab=n_vocab, emb_dim=emb_dim, n_hidden=16)\n",
        "num_parameters(ff_lm)"
      ]
    },
    {
      "cell_type": "markdown",
      "metadata": {
        "id": "L-U9KCbC9hXP"
      },
      "source": [
        "## Self-Attention\n",
        "\n",
        "We're going to implement an oversimplified Self-Attention layer. If you're interested, here are a few reference implementations of the real thing:\n",
        "\n",
        "- https://github.com/jaymody/picoGPT/\n",
        "- [Annotated Transformer](https://nlp.seas.harvard.edu/2018/04/03/attention.html)\n",
        "- PyTorch's builtin implementation: [`TransformerEncoderLayer`](https://pytorch.org/docs/stable/_modules/torch/nn/modules/transformer.html#TransformerEncoderLayer) and [`MultiheadAttention`](https://pytorch.org/docs/stable/generated/torch.nn.MultiheadAttention.html#torch.nn.MultiheadAttention).\n",
        "- [minGPT](https://github.com/karpathy/minGPT/blob/master/mingpt/model.py)"
      ]
    },
    {
      "cell_type": "markdown",
      "metadata": {
        "id": "gVf4fI5f9hXP"
      },
      "source": [
        "First we'll do it step-by-step, then we'll bundle it into a module.\n",
        "\n",
        "To show what's going on, let's get some example input embeddings."
      ]
    },
    {
      "cell_type": "code",
      "execution_count": 12,
      "metadata": {
        "id": "Z29ZVTbX9hXP",
        "outputId": "fbb76698-faaa-41d9-ce6f-a4369ec3b3ed",
        "colab": {
          "base_uri": "https://localhost:8080/"
        }
      },
      "outputs": [
        {
          "output_type": "execute_result",
          "data": {
            "text/plain": [
              "torch.Size([11, 5])"
            ]
          },
          "metadata": {},
          "execution_count": 12
        }
      ],
      "source": [
        "example_embeddings = embedder(input_ids)\n",
        "example_embeddings.shape"
      ]
    },
    {
      "cell_type": "markdown",
      "metadata": {
        "id": "yz8ohKjF9hXP"
      },
      "source": [
        "**Stop**: Can you explain that shape?"
      ]
    },
    {
      "cell_type": "markdown",
      "metadata": {
        "id": "7c1rDJCR9hXP"
      },
      "source": [
        "We're going to implement a single attention head. Recall that we need to compute three things for each token: a **query** (q), which then gets compared with all of the **key**s (k), and if matches, we add up the **value**s (v). Let's do that. First, let's define linear layers to compute q, k, and v."
      ]
    },
    {
      "cell_type": "code",
      "execution_count": 13,
      "metadata": {
        "id": "9Ynu1AFB9hXP"
      },
      "outputs": [],
      "source": [
        "# In the real model, this will be defined in the __init__ method\n",
        "# Note: some models include biases here, others don't.\n",
        "get_query = nn.Linear(emb_dim, emb_dim, bias=False)\n",
        "get_key = nn.Linear(emb_dim, emb_dim, bias=False)\n",
        "get_value = nn.Linear(emb_dim, emb_dim, bias=False)"
      ]
    },
    {
      "cell_type": "markdown",
      "metadata": {
        "id": "du-IoOoh9hXQ"
      },
      "source": [
        "Then, when we do a forward pass, we compute q, k, and v for each token. We do that by passing the input embeddings through the linear layers."
      ]
    },
    {
      "cell_type": "code",
      "execution_count": 14,
      "metadata": {
        "id": "p6ah5OH49hXQ"
      },
      "outputs": [],
      "source": [
        "queries = get_query(example_embeddings)\n",
        "keys = get_key(example_embeddings)\n",
        "values = get_value(example_embeddings)"
      ]
    },
    {
      "cell_type": "code",
      "source": [
        "print(keys)\n",
        "print(values)"
      ],
      "metadata": {
        "id": "WaW81LFp99x8",
        "outputId": "7c5b7d43-2328-4e15-e9e7-60fb52dff4cb",
        "colab": {
          "base_uri": "https://localhost:8080/"
        }
      },
      "execution_count": 15,
      "outputs": [
        {
          "output_type": "stream",
          "name": "stdout",
          "text": [
            "tensor([[-0.2916, -0.3433, -0.2521, -0.3284, -1.0059],\n",
            "        [ 0.3273, -0.0719,  0.5047, -0.4297, -0.3397],\n",
            "        [ 1.3166,  0.1883,  0.9023, -0.9228, -0.0918],\n",
            "        [ 0.1294,  0.3409, -0.5682, -0.0680,  0.5885],\n",
            "        [ 0.3143, -0.7208,  0.9736, -0.5665,  0.5211],\n",
            "        [ 0.1223,  1.3094, -0.9502,  1.2695,  0.7920],\n",
            "        [ 1.3500,  0.8064, -0.9179, -0.1764, -0.1567],\n",
            "        [ 0.3273, -0.0719,  0.5047, -0.4297, -0.3397],\n",
            "        [-0.6557, -0.1387,  0.5381,  0.1338,  0.2822],\n",
            "        [ 0.9047,  0.0556,  0.6296, -0.2736,  0.0454],\n",
            "        [-0.4114,  0.1518, -0.4654,  0.5439,  0.6163]], grad_fn=<MmBackward0>)\n",
            "tensor([[ 0.0449, -0.1159,  0.3450, -0.0856, -0.3063],\n",
            "        [ 0.4874, -0.4537,  0.1441, -0.5479, -0.3431],\n",
            "        [ 1.0906, -0.9954, -0.2482, -1.2250, -0.5048],\n",
            "        [ 0.2326,  0.6712,  0.0739, -0.3251,  0.5278],\n",
            "        [ 0.3719, -0.2640, -0.3922, -0.4245, -0.4344],\n",
            "        [-0.8104,  0.3224, -0.3869,  0.9885,  0.9078],\n",
            "        [-0.0183, -0.6592, -1.0289,  0.0251,  0.1158],\n",
            "        [ 0.4874, -0.4537,  0.1441, -0.5479, -0.3431],\n",
            "        [ 0.2370,  0.4876,  0.7813, -0.2733,  0.1161],\n",
            "        [ 0.2063, -0.9408, -0.6829, -0.1772, -0.4268],\n",
            "        [-0.4757,  0.6463, -0.0609,  0.5346,  0.4879]], grad_fn=<MmBackward0>)\n"
          ]
        }
      ]
    },
    {
      "cell_type": "markdown",
      "metadata": {
        "id": "ZLN34H8F9hXQ"
      },
      "source": [
        "**Stop**: What shape will `queries` have? What about `keys` and `values`? Check your answers by printing them out."
      ]
    },
    {
      "cell_type": "markdown",
      "metadata": {
        "id": "5qfhp05H9hXQ"
      },
      "source": [
        "Now, let's compute how how much each token's query matches each token's key. We do that by computing the dot product of each query with each key. We could do something like:"
      ]
    },
    {
      "cell_type": "code",
      "execution_count": 16,
      "metadata": {
        "id": "63OPlmek9hXQ"
      },
      "outputs": [],
      "source": [
        "query_2_key_1 = queries[2] @ keys[1]"
      ]
    },
    {
      "cell_type": "markdown",
      "metadata": {
        "id": "9hgy69Zt9hXQ"
      },
      "source": [
        "But that would be tedious and require looping. Instead, we can just compute a matrix multiplication."
      ]
    },
    {
      "cell_type": "code",
      "execution_count": 17,
      "metadata": {
        "id": "5iR4pM7z9hXQ",
        "outputId": "e07bcd12-9bac-4e1f-f169-3409c18e711e",
        "colab": {
          "base_uri": "https://localhost:8080/"
        }
      },
      "outputs": [
        {
          "output_type": "execute_result",
          "data": {
            "text/plain": [
              "torch.Size([11, 11])"
            ]
          },
          "metadata": {},
          "execution_count": 17
        }
      ],
      "source": [
        "query_key_products = queries @ keys.T\n",
        "query_key_products.shape"
      ]
    },
    {
      "cell_type": "code",
      "execution_count": 18,
      "metadata": {
        "id": "0FbHCw7d9hXQ"
      },
      "outputs": [],
      "source": [
        "# Check that it's computing the same thing.\n",
        "assert torch.allclose(query_2_key_1, query_key_products[2, 1])"
      ]
    },
    {
      "cell_type": "markdown",
      "metadata": {
        "id": "Qgla9PBG9hXR"
      },
      "source": [
        "The result is a matrix of dot products. Let's look at it. (Note: since the embeddings and the linear layers are random, your values will be different.)"
      ]
    },
    {
      "cell_type": "code",
      "execution_count": 19,
      "metadata": {
        "id": "Dkmzs8W-9hXR",
        "outputId": "2e3aa831-fcd2-4c4e-b9ad-de1ddb7e5a69",
        "colab": {
          "base_uri": "https://localhost:8080/",
          "height": 472
        }
      },
      "outputs": [
        {
          "output_type": "display_data",
          "data": {
            "text/plain": [
              "<Figure size 640x480 with 2 Axes>"
            ],
            "image/png": "[encoded data removed]"
          },
          "metadata": {}
        }
      ],
      "source": [
        "# center the color scale on 0.\n",
        "plt.imshow(query_key_products.detach().numpy(), cmap=\"RdBu\", vmin=-2, vmax=2)\n",
        "plt.title(\"Query-key dot products\")\n",
        "plt.xlabel(\"Key token index\")\n",
        "plt.ylabel(\"Query token index\")\n",
        "plt.colorbar();"
      ]
    },
    {
      "cell_type": "markdown",
      "metadata": {
        "id": "oW88Zc9J9hXR"
      },
      "source": [
        "We then use the softmax function to compute how much to actually pay attention to each token. It turns out that to stabilize the computation, it helps to use a temperature proportional to the square root of the dimensionality of the keys."
      ]
    },
    {
      "cell_type": "code",
      "execution_count": 20,
      "metadata": {
        "id": "bO_4Homa9hXR"
      },
      "outputs": [],
      "source": [
        "attention_weights = F.softmax(query_key_products / emb_dim**0.5, dim=-1)"
      ]
    },
    {
      "cell_type": "markdown",
      "metadata": {
        "id": "IkYJ1J6V9hXR"
      },
      "source": [
        "What do the attention weights look like?"
      ]
    },
    {
      "cell_type": "code",
      "execution_count": 21,
      "metadata": {
        "id": "TRzvZ6F19hXR",
        "outputId": "cf20f562-67f8-402c-b010-52aa9fde23d0",
        "colab": {
          "base_uri": "https://localhost:8080/",
          "height": 472
        }
      },
      "outputs": [
        {
          "output_type": "display_data",
          "data": {
            "text/plain": [
              "<Figure size 640x480 with 2 Axes>"
            ],
            "image/png": "[encoded data removed]"
          },
          "metadata": {}
        }
      ],
      "source": [
        "plt.imshow(attention_weights.detach().numpy(), cmap=\"cividis\", vmin=0)\n",
        "plt.title(\"Attention weights\")\n",
        "plt.xlabel(\"Key token index\")\n",
        "plt.ylabel(\"Query token index\")\n",
        "plt.colorbar();"
      ]
    },
    {
      "cell_type": "markdown",
      "metadata": {
        "id": "mNAzzz1w9hXR"
      },
      "source": [
        "Those weights determine, for each token, how much of each other token's `value` to add up. We can compute that by multiplying the weights by the values."
      ]
    },
    {
      "cell_type": "code",
      "execution_count": 22,
      "metadata": {
        "id": "PWxGkgrb9hXS",
        "outputId": "9d0af019-0641-40b6-917e-0fd071e3389c",
        "colab": {
          "base_uri": "https://localhost:8080/"
        }
      },
      "outputs": [
        {
          "output_type": "execute_result",
          "data": {
            "text/plain": [
              "torch.Size([5])"
            ]
          },
          "metadata": {},
          "execution_count": 22
        }
      ],
      "source": [
        "first_token_output = attention_weights[0] @ values\n",
        "first_token_output.shape # notice that this is the same shape as the input embeddings"
      ]
    },
    {
      "cell_type": "markdown",
      "metadata": {
        "id": "f1UiS0Qc9hXS"
      },
      "source": [
        "Again, we can io the computation all at once by computing a matrix multiplication."
      ]
    },
    {
      "cell_type": "code",
      "execution_count": 23,
      "metadata": {
        "id": "4OpgnS_q9hXS"
      },
      "outputs": [],
      "source": [
        "head_output = attention_weights @ values\n",
        "assert torch.allclose(first_token_output, head_output[0])"
      ]
    },
    {
      "cell_type": "markdown",
      "metadata": {
        "id": "9E2lM-5V9hXS"
      },
      "source": [
        "The full attention mechanism has this go through another linear layer, but we'll skip that for now."
      ]
    },
    {
      "cell_type": "markdown",
      "metadata": {
        "id": "f26BJML99hXS"
      },
      "source": [
        "But wait! Tokens shouldn't be able to attend to tokens that come after them. We need to mask out the attention weights for those tokens.\n",
        "\n",
        "A simple way to do that is to set the dot products to a very small value for tokens that come after the current token. That way, when we apply the softmax, the attention weights will be very close to zero."
      ]
    },
    {
      "cell_type": "code",
      "execution_count": 24,
      "metadata": {
        "id": "ekgsK5yp9hXS",
        "outputId": "c4bf43aa-6afd-4b88-f47a-979baa96cde2",
        "colab": {
          "base_uri": "https://localhost:8080/",
          "height": 448
        }
      },
      "outputs": [
        {
          "output_type": "execute_result",
          "data": {
            "text/plain": [
              "<matplotlib.image.AxesImage at 0x7f87b755d9a0>"
            ]
          },
          "metadata": {},
          "execution_count": 24
        },
        {
          "output_type": "display_data",
          "data": {
            "text/plain": [
              "<Figure size 640x480 with 1 Axes>"
            ],
            "image/png": "[encoded data removed]"
          },
          "metadata": {}
        }
      ],
      "source": [
        "sequence_len = input_ids.shape[0]\n",
        "causal_mask = (1 - torch.tril(torch.ones(sequence_len, sequence_len))) * -1e9\n",
        "plt.imshow(causal_mask.detach().numpy(), cmap=\"cividis\", vmin=-1e9)"
      ]
    },
    {
      "cell_type": "code",
      "execution_count": 25,
      "metadata": {
        "id": "hSIFu8Z-9hXS",
        "outputId": "5644fcf4-f34f-4a54-e2b8-7e90adbac61b",
        "colab": {
          "base_uri": "https://localhost:8080/",
          "height": 472
        }
      },
      "outputs": [
        {
          "output_type": "display_data",
          "data": {
            "text/plain": [
              "<Figure size 640x480 with 2 Axes>"
            ],
            "image/png": "[encoded data removed]"
          },
          "metadata": {}
        }
      ],
      "source": [
        "attention_weights = F.softmax((query_key_products + causal_mask) / emb_dim**0.5, dim=-1)\n",
        "plt.imshow(attention_weights.detach().numpy(), cmap=\"cividis\", vmin=0)\n",
        "plt.title(\"Attention weights\")\n",
        "plt.xlabel(\"Key token index\")\n",
        "plt.ylabel(\"Query token index\")\n",
        "plt.colorbar();"
      ]
    },
    {
      "cell_type": "markdown",
      "metadata": {
        "id": "ayJyd5SA9hXS"
      },
      "source": [
        "Now we can bundle that into a `Module`. Your task: add the causal masking."
      ]
    },
    {
      "cell_type": "code",
      "execution_count": 26,
      "metadata": {
        "id": "99ChgqOS9hXT",
        "outputId": "1a04317c-ed0e-4396-9b69-951aec8c155b",
        "colab": {
          "base_uri": "https://localhost:8080/"
        }
      },
      "outputs": [
        {
          "output_type": "execute_result",
          "data": {
            "text/plain": [
              "torch.Size([12, 5])"
            ]
          },
          "metadata": {},
          "execution_count": 26
        }
      ],
      "source": [
        "class BareBonesAttentionHead(nn.Module):\n",
        "    '''Implements *single-head* attention, no masking, no dropout, no init'''\n",
        "    def __init__(self, emb_dim, head_dim):\n",
        "        super().__init__()\n",
        "        self.head_dim = head_dim\n",
        "        self.get_query = nn.Linear(emb_dim, head_dim, bias=False)\n",
        "        self.get_key = nn.Linear(emb_dim, head_dim, bias=False)\n",
        "        self.get_value = nn.Linear(emb_dim, head_dim, bias=False)\n",
        "\n",
        "    def forward(self, x):\n",
        "        seq_len, emb_dim = x.shape\n",
        "\n",
        "        # Compute query, key, and value vectors.\n",
        "        q = self.get_query(x) # (seq_len, head_dim)\n",
        "        k = self.get_key(x)\n",
        "        v = self.get_value(x)\n",
        "\n",
        "        # Compute attention weights\n",
        "        k_transpose = k.transpose(-2, -1)\n",
        "        assert k_transpose.shape == (self.head_dim, seq_len)\n",
        "        scores = q @ k_transpose\n",
        "        assert scores.shape == (seq_len, seq_len)\n",
        "        attention_weights = scores.softmax(dim=-1)\n",
        "\n",
        "        # Compute weighted sum of values.\n",
        "        out = attention_weights @ v\n",
        "        return out\n",
        "\n",
        "class BareBonesSelfAttention(nn.Module):\n",
        "    def __init__(self, emb_dim, head_dim, n_heads):\n",
        "        super().__init__()\n",
        "        self.heads = nn.ModuleList([\n",
        "            BareBonesAttentionHead(emb_dim, head_dim)\n",
        "            for i in range(n_heads)\n",
        "        ]) # we need a ModuleList to make sure the heads are counted as children.\n",
        "        self.to_output = nn.Linear(n_heads * head_dim, emb_dim, bias=False)\n",
        "\n",
        "    def forward(self, x):\n",
        "        head_outputs = [head(x) for head in self.heads]\n",
        "        concats = torch.cat(head_outputs, dim=-1)\n",
        "        out = self.to_output(concats)\n",
        "        assert out.shape == x.shape\n",
        "        return out\n",
        "\n",
        "input_embeds = embedder(sentence_tensor)\n",
        "self_attn = BareBonesSelfAttention(emb_dim, head_dim=256, n_heads=2)\n",
        "self_attn(input_embeds).shape\n"
      ]
    },
    {
      "cell_type": "markdown",
      "metadata": {
        "id": "PmkXTpB49hXT"
      },
      "source": [
        "Now we'll define a Transformer. Well, we'll just define a single layer. A true Transformer will have many (32, 64, 118, ...) such layers. But it's just running a bunch of copies of this layer in sequence.\n",
        "\n",
        "One new thing here is the *layer norm*. It basically rescales the activations to be mean 0 variance 1, then scales and shifts by learnable constants. So each one adds 2 * emb_dim parameters to the model, and there's one after each part (self-attention and MLP)."
      ]
    },
    {
      "cell_type": "code",
      "execution_count": 27,
      "metadata": {
        "id": "ipH0Ab7T9hXT",
        "outputId": "7e773731-2cf9-4a0f-efa7-a50963af01e4",
        "colab": {
          "base_uri": "https://localhost:8080/"
        }
      },
      "outputs": [
        {
          "output_type": "execute_result",
          "data": {
            "text/plain": [
              "torch.Size([12, 5])"
            ]
          },
          "metadata": {},
          "execution_count": 27
        }
      ],
      "source": [
        "class BareBonesTransformerLayer(nn.Module):\n",
        "    '''Implements bare-bones self-attention transformer layer, no residual connections, no dropout'''\n",
        "    def __init__(self, emb_dim, head_dim, n_heads, dim_feedforward):\n",
        "        super().__init__()\n",
        "        self.self_attention = BareBonesSelfAttention(emb_dim, head_dim=head_dim, n_heads=n_heads)\n",
        "        self.mlp = MLP(emb_dim, n_hidden=dim_feedforward)\n",
        "        self.norm_after_attn = nn.LayerNorm(emb_dim)\n",
        "        self.norm_after_mlp = nn.LayerNorm(emb_dim)\n",
        "    \n",
        "    def forward(self, x):\n",
        "        x = self.self_attention(x)\n",
        "        x = self.norm_after_attn(x)\n",
        "        x = self.mlp(x)\n",
        "        x = self.norm_after_mlp(x)\n",
        "        return x\n",
        "\n",
        "xformer_layer = BareBonesTransformerLayer(emb_dim, dim_feedforward=emb_dim, head_dim=256, n_heads=2)\n",
        "xformer_layer(input_embeds).shape"
      ]
    },
    {
      "cell_type": "markdown",
      "metadata": {
        "id": "bg97O0Xo9hXT"
      },
      "source": [
        "Now, at long last, let's make a complete Transformer-based language model.\n",
        "\n",
        "A big new aspect here is the *position embeddings*. We'll implement *learned absolute position embeddings*, which do add parameters to the model. A cool new approach, called *Rotary Position Embeddings* ([RoPE](https://blog.eleuther.ai/rotary-embeddings/)), gets comparable or better performance without adding parameters; for an implementation of that, see [x-transformers](https://github.com/lucidrains/x-transformers/blob/75afacae30c3a6c9a9daf6f9403c3fc22f6bc945/x_transformers/x_transformers.py#L310)."
      ]
    },
    {
      "cell_type": "code",
      "execution_count": 28,
      "metadata": {
        "id": "0U-9UARa9hXT",
        "outputId": "624d109a-88f2-4ef9-abab-05c746732938",
        "colab": {
          "base_uri": "https://localhost:8080/"
        }
      },
      "outputs": [
        {
          "output_type": "execute_result",
          "data": {
            "text/plain": [
              "11971"
            ]
          },
          "metadata": {},
          "execution_count": 28
        }
      ],
      "source": [
        "class TransformerLM(nn.Module):\n",
        "    def __init__(self, n_vocab, max_len, emb_dim, n_hidden, head_dim=256, n_heads=2):\n",
        "        super().__init__()\n",
        "        self.word_to_embedding = nn.Embedding(n_vocab, emb_dim)\n",
        "        self.pos_to_embedding = nn.Embedding(max_len, emb_dim)\n",
        "        self.model = BareBonesTransformerLayer(\n",
        "            emb_dim=emb_dim, dim_feedforward=n_hidden,\n",
        "            head_dim=head_dim, n_heads=n_heads)\n",
        "        self.lm_head = nn.Linear(emb_dim, n_vocab, bias=False)\n",
        "\n",
        "        assert self.lm_head.weight.shape == self.word_to_embedding.weight.shape\n",
        "        self.lm_head.weight = self.word_to_embedding.weight\n",
        "    \n",
        "    def forward(self, input_ids):\n",
        "        input_embeds = self.word_to_embedding(input_ids)\n",
        "        # Compute position embeddings.\n",
        "        position_ids = torch.arange(input_ids.shape[-1])\n",
        "        pos_embeds = self.pos_to_embedding(position_ids)\n",
        "        x = input_embeds + pos_embeds\n",
        "        x = self.model(x)\n",
        "        return self.lm_head(x)\n",
        "\n",
        "\n",
        "xformer_lm = TransformerLM(n_vocab=n_vocab, max_len=50, emb_dim=emb_dim, n_hidden=16)\n",
        "num_parameters(xformer_lm)"
      ]
    }
  ],
  "metadata": {
    "interpreter": {
      "hash": "e8f4b6a4c38f2085446f7f3f791a848eb62f1444c2c1b7234c3e9244444f9b89"
    },
    "kernelspec": {
      "display_name": "Python 3",
      "language": "python",
      "name": "python3"
    },
    "language_info": {
      "codemirror_mode": {
        "name": "ipython",
        "version": 3
      },
      "file_extension": ".py",
      "mimetype": "text/x-python",
      "name": "python",
      "nbconvert_exporter": "python",
      "pygments_lexer": "ipython3",
      "version": "3.10.5"
    },
    "colab": {
      "provenance": []
    }
  },
  "nbformat": 4,
  "nbformat_minor": 0
}