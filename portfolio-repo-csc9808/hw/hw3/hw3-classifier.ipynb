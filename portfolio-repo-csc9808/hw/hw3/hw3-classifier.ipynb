{
 "cells": [
  {
   "cell_type": "markdown",
   "id": "349887bd",
   "metadata": {},
   "source": [
    "<h1> Homework 3 MNIST Classifier <h1>"
   ]
  },
  {
   "cell_type": "markdown",
   "id": "6f281525",
   "metadata": {},
   "source": [
    "This notebook shows practices of image classifier using singler layer training and double layer training with ReLu. </br> \n",
    "Each training will show training model accuracy and valdation model accuracy. "
   ]
  },
  {
   "cell_type": "code",
   "execution_count": 1,
   "id": "a9c30890",
   "metadata": {},
   "outputs": [
    {
     "name": "stdout",
     "output_type": "stream",
     "text": [
      "5000 training images, 5000 validation images\n"
     ]
    }
   ],
   "source": [
    "from fastai.vision.all import *\n",
    "path = untar_data(URLs.MNIST)\n",
    "set_seed(0)\n",
    "num_imgs_per_digit = 500\n",
    "items = [\n",
    "    p\n",
    "    for split in ['training', 'testing']\n",
    "    for digit in range(10)\n",
    "    for p in (path/split/str(digit)).ls().shuffle()[:num_imgs_per_digit]\n",
    "]\n",
    "block = DataBlock(\n",
    "    blocks=(ImageBlock(PILImageBW), CategoryBlock),\n",
    "    get_y = parent_label,\n",
    "    splitter=GrandparentSplitter(train_name='training', valid_name=\"testing\"),\n",
    ")\n",
    "dataloaders = block.dataloaders(items, bs=16)\n",
    "print(f\"{dataloaders.train.n} training images, {dataloaders.valid.n} validation images\")"
   ]
  },
  {
   "cell_type": "markdown",
   "id": "9de8f7d2",
   "metadata": {},
   "source": [
    "**Show Loaded Data batch**"
   ]
  },
  {
   "cell_type": "code",
   "execution_count": 2,
   "id": "f41c884f",
   "metadata": {},
   "outputs": [
    {
     "data": {
      "image/png": "[encoded data removed]",
      "text/plain": [
       "<Figure size 648x648 with 9 Axes>"
      ]
     },
     "metadata": {
      "needs_background": "light"
     },
     "output_type": "display_data"
    }
   ],
   "source": [
    "dataloaders.train.show_batch()"
   ]
  },
  {
   "cell_type": "code",
   "execution_count": 3,
   "id": "e2469cdb",
   "metadata": {},
   "outputs": [
    {
     "name": "stdout",
     "output_type": "stream",
     "text": [
      "Available categories: ['0', '1', '2', '3', '4', '5', '6', '7', '8', '9']\n"
     ]
    }
   ],
   "source": [
    "print(f\"Available categories: {dataloaders.train.vocab}\")"
   ]
  },
  {
   "cell_type": "code",
   "execution_count": 4,
   "id": "fc3e8788",
   "metadata": {},
   "outputs": [
    {
     "data": {
      "text/plain": [
       "torch.Size([16, 1, 28, 28])"
      ]
     },
     "execution_count": 4,
     "metadata": {},
     "output_type": "execute_result"
    }
   ],
   "source": [
    "images, labels = dataloaders.train.one_batch()\n",
    "images = cast(images, Tensor)\n",
    "labels = cast(labels, Tensor)\n",
    "images.shape"
   ]
  },
  {
   "cell_type": "code",
   "execution_count": 5,
   "id": "2289e837",
   "metadata": {},
   "outputs": [],
   "source": [
    "flattener = nn.Flatten()"
   ]
  },
  {
   "cell_type": "code",
   "execution_count": 6,
   "id": "c9b88dab",
   "metadata": {},
   "outputs": [
    {
     "data": {
      "text/plain": [
       "torch.Size([16, 784])"
      ]
     },
     "execution_count": 6,
     "metadata": {},
     "output_type": "execute_result"
    }
   ],
   "source": [
    "flattener(images).shape"
   ]
  },
  {
   "cell_type": "code",
   "execution_count": 7,
   "id": "ccf8544e",
   "metadata": {},
   "outputs": [],
   "source": [
    "linear_1 = nn.Linear(in_features=784, out_features=10, bias=False)\n",
    "\n",
    "model = nn.Sequential(\n",
    "    flattener,\n",
    "    linear_1,\n",
    ")"
   ]
  },
  {
   "cell_type": "code",
   "execution_count": 8,
   "id": "4f19dc72",
   "metadata": {},
   "outputs": [
    {
     "data": {
      "text/plain": [
       "Sequential(\n",
       "  (0): Flatten(start_dim=1, end_dim=-1)\n",
       "  (1): Linear(in_features=784, out_features=10, bias=False)\n",
       ")"
      ]
     },
     "execution_count": 8,
     "metadata": {},
     "output_type": "execute_result"
    }
   ],
   "source": [
    "model.to(images.device)"
   ]
  },
  {
   "cell_type": "code",
   "execution_count": 9,
   "id": "c20a50d9",
   "metadata": {},
   "outputs": [],
   "source": [
    "logits = model(images)\n",
    "assert logits.shape == (16, 10)"
   ]
  },
  {
   "cell_type": "code",
   "execution_count": 10,
   "id": "100f3683",
   "metadata": {},
   "outputs": [
    {
     "data": {
      "text/plain": [
       "tensor([ 0.0977,  0.1462,  0.0740, -0.1660, -0.1028,  0.2892, -0.1130,  0.1986,\n",
       "        -0.2794,  0.1695], device='cuda:0', grad_fn=<SelectBackward0>)"
      ]
     },
     "execution_count": 10,
     "metadata": {},
     "output_type": "execute_result"
    }
   ],
   "source": [
    "logits[0]"
   ]
  },
  {
   "cell_type": "code",
   "execution_count": 11,
   "id": "319a9d5f",
   "metadata": {},
   "outputs": [
    {
     "data": {
      "image/png": "[encoded data removed]",
      "text/plain": [
       "<Figure size 432x288 with 1 Axes>"
      ]
     },
     "metadata": {
      "needs_background": "light"
     },
     "output_type": "display_data"
    }
   ],
   "source": [
    "probs = logits.softmax(dim=-1)\n",
    "plt.barh(torch.arange(10), probs[0].detach().cpu()); plt.xlabel(\"Probability\"); plt.ylabel(\"Digit\");"
   ]
  },
  {
   "cell_type": "code",
   "execution_count": 12,
   "id": "6717dcec",
   "metadata": {},
   "outputs": [
    {
     "data": {
      "text/plain": [
       "tensor([0, 9, 8, 6, 0, 6, 8, 3, 1, 6, 5, 0, 0, 7, 7, 9], device='cuda:0')"
      ]
     },
     "execution_count": 12,
     "metadata": {},
     "output_type": "execute_result"
    }
   ],
   "source": [
    "labels"
   ]
  },
  {
   "cell_type": "code",
   "execution_count": 13,
   "id": "99290965",
   "metadata": {},
   "outputs": [
    {
     "data": {
      "text/plain": [
       "tensor([2.2513, 2.2094, 2.1502, 2.4702, 2.2340, 2.4753, 2.0471, 2.5374, 2.1118,\n",
       "        2.4839, 2.4328, 2.0901, 2.4432, 1.9929, 2.1390, 2.3107],\n",
       "       device='cuda:0', grad_fn=<NllLossBackward0>)"
      ]
     },
     "execution_count": 13,
     "metadata": {},
     "output_type": "execute_result"
    }
   ],
   "source": [
    "loss = F.cross_entropy(logits, labels, reduction='none')\n",
    "loss"
   ]
  },
  {
   "cell_type": "code",
   "execution_count": 14,
   "id": "ab49cdf4",
   "metadata": {},
   "outputs": [
    {
     "data": {
      "text/plain": [
       "tensor(2.2737, device='cuda:0', grad_fn=<MeanBackward0>)"
      ]
     },
     "execution_count": 14,
     "metadata": {},
     "output_type": "execute_result"
    }
   ],
   "source": [
    "loss.mean()"
   ]
  },
  {
   "cell_type": "code",
   "execution_count": 15,
   "id": "d50541e9",
   "metadata": {},
   "outputs": [
    {
     "data": {
      "text/plain": [
       "tensor(2.2737, device='cuda:0', grad_fn=<MeanBackward0>)"
      ]
     },
     "execution_count": 15,
     "metadata": {},
     "output_type": "execute_result"
    }
   ],
   "source": [
    "F.nll_loss(probs.log(), labels, reduction='none').mean()"
   ]
  },
  {
   "cell_type": "code",
   "execution_count": 16,
   "id": "958baed3",
   "metadata": {},
   "outputs": [
    {
     "name": "stdout",
     "output_type": "stream",
     "text": [
      "torch.Size([16])\n"
     ]
    },
    {
     "data": {
      "text/plain": [
       "tensor([5, 2, 7, 9, 5, 8, 8, 8, 1, 7, 1, 9, 5, 7, 2, 2], device='cuda:0')"
      ]
     },
     "execution_count": 16,
     "metadata": {},
     "output_type": "execute_result"
    }
   ],
   "source": [
    "predictions = logits.argmax(dim=1)\n",
    "print(predictions.shape)\n",
    "predictions"
   ]
  },
  {
   "cell_type": "markdown",
   "id": "a1c3bb35",
   "metadata": {},
   "source": [
    "<h2>Training Loop<h2>"
   ]
  },
  {
   "cell_type": "code",
   "execution_count": 17,
   "id": "5d755491",
   "metadata": {},
   "outputs": [
    {
     "name": "stdout",
     "output_type": "stream",
     "text": [
      "Epoch  0: loss=1.44, train accuracy 71.05%, validation accuracy 81.88%\n",
      "Epoch  1: loss=1.13, train accuracy 83.91%, validation accuracy 85.10%\n",
      "Epoch  2: loss=0.98, train accuracy 86.28%, validation accuracy 86.06%\n",
      "Epoch  3: loss=0.88, train accuracy 86.84%, validation accuracy 86.60%\n",
      "Epoch  4: loss=0.81, train accuracy 87.96%, validation accuracy 87.22%\n",
      "Epoch  5: loss=0.75, train accuracy 88.64%, validation accuracy 87.44%\n",
      "Epoch  6: loss=0.71, train accuracy 88.78%, validation accuracy 87.70%\n",
      "Epoch  7: loss=0.68, train accuracy 89.30%, validation accuracy 88.10%\n",
      "Epoch  8: loss=0.65, train accuracy 89.52%, validation accuracy 88.22%\n",
      "Epoch  9: loss=0.63, train accuracy 89.76%, validation accuracy 88.24%\n",
      "Epoch 10: loss=0.61, train accuracy 89.92%, validation accuracy 88.46%\n",
      "Epoch 11: loss=0.59, train accuracy 90.08%, validation accuracy 88.76%\n",
      "Epoch 12: loss=0.57, train accuracy 90.34%, validation accuracy 88.86%\n",
      "Epoch 13: loss=0.56, train accuracy 90.28%, validation accuracy 88.74%\n",
      "Epoch 14: loss=0.54, train accuracy 90.60%, validation accuracy 88.82%\n",
      "Epoch 15: loss=0.53, train accuracy 90.75%, validation accuracy 88.88%\n",
      "Epoch 16: loss=0.46, train accuracy 90.65%, validation accuracy 89.14%\n",
      "Epoch 17: loss=0.43, train accuracy 90.85%, validation accuracy 89.30%\n",
      "Epoch 18: loss=0.41, train accuracy 90.71%, validation accuracy 89.38%\n",
      "Epoch 19: loss=0.40, train accuracy 91.11%, validation accuracy 89.36%\n",
      "Epoch 20: loss=0.39, train accuracy 91.17%, validation accuracy 89.40%\n",
      "Epoch 21: loss=0.38, train accuracy 91.27%, validation accuracy 89.28%\n",
      "Epoch 22: loss=0.37, train accuracy 91.41%, validation accuracy 89.66%\n",
      "Epoch 23: loss=0.36, train accuracy 91.51%, validation accuracy 89.60%\n",
      "Epoch 24: loss=0.35, train accuracy 91.41%, validation accuracy 89.70%\n",
      "Epoch 25: loss=0.35, train accuracy 91.65%, validation accuracy 89.70%\n",
      "Epoch 26: loss=0.34, train accuracy 91.55%, validation accuracy 89.70%\n",
      "Epoch 27: loss=0.34, train accuracy 91.61%, validation accuracy 89.72%\n",
      "Epoch 28: loss=0.33, train accuracy 91.89%, validation accuracy 89.82%\n",
      "Epoch 29: loss=0.33, train accuracy 92.05%, validation accuracy 89.78%\n"
     ]
    },
    {
     "data": {
      "text/plain": [
       "[<matplotlib.lines.Line2D at 0x7f507993b070>]"
      ]
     },
     "execution_count": 17,
     "metadata": {},
     "output_type": "execute_result"
    },
    {
     "data": {
      "image/png": "[encoded data removed]",
      "text/plain": [
       "<Figure size 432x288 with 1 Axes>"
      ]
     },
     "metadata": {
      "needs_background": "light"
     },
     "output_type": "display_data"
    }
   ],
   "source": [
    "del images, labels, logits, loss, probs, predictions\n",
    "num_epochs = 30 \n",
    "learning_rate = 0.01\n",
    "losses = []\n",
    "train_accs = []\n",
    "valid_accs = []\n",
    "\n",
    "linear_1.reset_parameters()\n",
    "\n",
    "for epoch in range(num_epochs):\n",
    "    total_images_train = 0\n",
    "    total_correct_train = 0\n",
    "\n",
    "    for images, labels in dataloaders.train:\n",
    "        images = cast(images, Tensor)\n",
    "        labels = cast(labels, Tensor)\n",
    "        logits = model(images)\n",
    "        loss = F.cross_entropy(logits, labels, reduction='none').mean()\n",
    "        loss.backward()\n",
    "        for parameter in model.parameters():\n",
    "            parameter.data -= learning_rate * parameter.grad\n",
    "        model.zero_grad()\n",
    "        predictions = logits.argmax(axis=1)\n",
    "        num_accurate = (predictions == labels).sum()\n",
    "        total_images_train += len(labels)\n",
    "        total_correct_train += num_accurate\n",
    "        losses.append(loss.item())\n",
    "    train_acc = 100 * total_correct_train / total_images_train\n",
    "    train_accs.append(train_acc)\n",
    "\n",
    "\n",
    "    model.eval()\n",
    "    total_images_valid = 0\n",
    "    total_correct_valid = 0\n",
    "\n",
    "    for images, labels in dataloaders.valid:\n",
    "        images = cast(images, Tensor) \n",
    "        labels = cast(labels, Tensor)\n",
    "        with torch.no_grad():\n",
    "            logits = model(images)\n",
    "            loss = F.cross_entropy(logits, labels, reduction='none').mean()\n",
    "        predictions = logits.argmax(axis=1)\n",
    "        num_accurate = (predictions == labels).sum()\n",
    "        total_images_valid += len(labels)\n",
    "        total_correct_valid += num_accurate\n",
    "    valid_acc = 100 * total_correct_valid / total_images_valid\n",
    "    valid_accs.append(valid_acc)\n",
    "\n",
    "    avg_loss_this_epoch = np.mean(losses[-total_images_train:])\n",
    "    print(f\"Epoch {epoch:2d}: loss={avg_loss_this_epoch:.2f}, train accuracy {train_acc:.2f}%, validation accuracy {valid_acc:.2f}%\")\n",
    "\n",
    "pd.Series(losses).ewm(alpha = .1).mean().plot()\n",
    "plt.xlabel(\"Iteration\")\n",
    "plt.ylabel(\"Cross-Entropy Loss\");\n",
    "plt.plot(valid_accs, label=\"Validation accuracy\")\n"
   ]
  },
  {
   "cell_type": "markdown",
   "id": "ce642f96",
   "metadata": {},
   "source": [
    "<h2> 2 Layer Training <h2>"
   ]
  },
  {
   "cell_type": "code",
   "execution_count": 18,
   "id": "d07a448b",
   "metadata": {},
   "outputs": [
    {
     "data": {
      "text/plain": [
       "<Figure size 432x288 with 0 Axes>"
      ]
     },
     "execution_count": 18,
     "metadata": {},
     "output_type": "execute_result"
    },
    {
     "data": {
      "text/plain": [
       "<Figure size 432x288 with 0 Axes>"
      ]
     },
     "metadata": {},
     "output_type": "display_data"
    }
   ],
   "source": [
    "linear_1 = nn.Linear(in_features=784, out_features=10, bias=True)\n",
    "linear_2 = nn.Linear(in_features=10, out_features=10, bias=True)\n",
    "model = nn.Sequential(\n",
    "    flattener,\n",
    "    linear_1,\n",
    "    nn.ReLU(),\n",
    "    linear_2\n",
    "    \n",
    ")\n",
    "\n",
    "plt.figure()"
   ]
  },
  {
   "cell_type": "code",
   "execution_count": 19,
   "id": "08122a79",
   "metadata": {},
   "outputs": [
    {
     "data": {
      "text/plain": [
       "Sequential(\n",
       "  (0): Flatten(start_dim=1, end_dim=-1)\n",
       "  (1): Linear(in_features=784, out_features=10, bias=True)\n",
       "  (2): ReLU()\n",
       "  (3): Linear(in_features=10, out_features=10, bias=True)\n",
       ")"
      ]
     },
     "execution_count": 19,
     "metadata": {},
     "output_type": "execute_result"
    }
   ],
   "source": [
    "model.to(images.device)"
   ]
  },
  {
   "cell_type": "code",
   "execution_count": 20,
   "id": "8468beb0",
   "metadata": {},
   "outputs": [],
   "source": [
    "logits = model(images)"
   ]
  },
  {
   "cell_type": "code",
   "execution_count": 21,
   "id": "26860077",
   "metadata": {},
   "outputs": [
    {
     "data": {
      "text/plain": [
       "tensor([ 0.2029, -0.1277, -0.2586,  0.0789,  0.2938,  0.2487, -0.1420, -0.0969,\n",
       "         0.0366, -0.0323], device='cuda:0', grad_fn=<SelectBackward0>)"
      ]
     },
     "execution_count": 21,
     "metadata": {},
     "output_type": "execute_result"
    }
   ],
   "source": [
    "logits[0]"
   ]
  },
  {
   "cell_type": "code",
   "execution_count": 22,
   "id": "968b86d7",
   "metadata": {},
   "outputs": [
    {
     "data": {
      "image/png": "[encoded data removed]",
      "text/plain": [
       "<Figure size 432x288 with 1 Axes>"
      ]
     },
     "metadata": {
      "needs_background": "light"
     },
     "output_type": "display_data"
    }
   ],
   "source": [
    "probs = logits.softmax(dim=-1)\n",
    "plt.barh(torch.arange(10), probs[0].detach().cpu()); plt.xlabel(\"Probability\"); plt.ylabel(\"Digit\");"
   ]
  },
  {
   "cell_type": "code",
   "execution_count": 23,
   "id": "4b4fb35c",
   "metadata": {},
   "outputs": [
    {
     "data": {
      "text/plain": [
       "tensor([9, 9, 9, 9, 9, 9, 9, 9], device='cuda:0')"
      ]
     },
     "execution_count": 23,
     "metadata": {},
     "output_type": "execute_result"
    }
   ],
   "source": [
    "labels"
   ]
  },
  {
   "cell_type": "code",
   "execution_count": 24,
   "id": "c7d5ea04",
   "metadata": {},
   "outputs": [
    {
     "data": {
      "text/plain": [
       "tensor([2.3706, 2.3937, 2.4125, 2.4152, 2.3594, 2.4158, 2.4204, 2.3752],\n",
       "       device='cuda:0', grad_fn=<NllLossBackward0>)"
      ]
     },
     "execution_count": 24,
     "metadata": {},
     "output_type": "execute_result"
    }
   ],
   "source": [
    "loss = F.cross_entropy(logits, labels, reduction='none')\n",
    "loss"
   ]
  },
  {
   "cell_type": "code",
   "execution_count": 25,
   "id": "9428d262",
   "metadata": {},
   "outputs": [
    {
     "data": {
      "text/plain": [
       "tensor(2.3954, device='cuda:0', grad_fn=<MeanBackward0>)"
      ]
     },
     "execution_count": 25,
     "metadata": {},
     "output_type": "execute_result"
    }
   ],
   "source": [
    "loss.mean()"
   ]
  },
  {
   "cell_type": "code",
   "execution_count": 26,
   "id": "b7f8a137",
   "metadata": {},
   "outputs": [
    {
     "data": {
      "text/plain": [
       "tensor(2.3954, device='cuda:0', grad_fn=<MeanBackward0>)"
      ]
     },
     "execution_count": 26,
     "metadata": {},
     "output_type": "execute_result"
    }
   ],
   "source": [
    "F.nll_loss(probs.log(), labels, reduction='none').mean()"
   ]
  },
  {
   "cell_type": "code",
   "execution_count": 27,
   "id": "2715b8ce",
   "metadata": {},
   "outputs": [
    {
     "name": "stdout",
     "output_type": "stream",
     "text": [
      "torch.Size([8])\n"
     ]
    },
    {
     "data": {
      "text/plain": [
       "tensor([4, 4, 4, 4, 0, 4, 4, 4], device='cuda:0')"
      ]
     },
     "execution_count": 27,
     "metadata": {},
     "output_type": "execute_result"
    }
   ],
   "source": [
    "predictions = logits.argmax(dim=1)\n",
    "print(predictions.shape)\n",
    "predictions"
   ]
  },
  {
   "cell_type": "code",
   "execution_count": 28,
   "id": "cd79cfe5",
   "metadata": {},
   "outputs": [],
   "source": [
    "del images, labels, logits, loss, probs, predictions"
   ]
  },
  {
   "cell_type": "code",
   "execution_count": 29,
   "id": "afc83f5e",
   "metadata": {},
   "outputs": [
    {
     "name": "stdout",
     "output_type": "stream",
     "text": [
      "Epoch  0: loss=2.03, train accuracy 40.26%, validation accuracy 58.66%\n",
      "Epoch  1: loss=1.67, train accuracy 70.69%, validation accuracy 78.50%\n",
      "Epoch  2: loss=1.40, train accuracy 80.71%, validation accuracy 82.36%\n",
      "Epoch  3: loss=1.21, train accuracy 83.89%, validation accuracy 85.04%\n",
      "Epoch  4: loss=1.07, train accuracy 86.28%, validation accuracy 86.04%\n",
      "Epoch  5: loss=0.97, train accuracy 87.20%, validation accuracy 87.12%\n",
      "Epoch  6: loss=0.90, train accuracy 87.88%, validation accuracy 87.26%\n",
      "Epoch  7: loss=0.83, train accuracy 88.62%, validation accuracy 87.98%\n",
      "Epoch  8: loss=0.78, train accuracy 89.40%, validation accuracy 88.26%\n",
      "Epoch  9: loss=0.74, train accuracy 90.00%, validation accuracy 88.42%\n",
      "Epoch 10: loss=0.71, train accuracy 90.30%, validation accuracy 88.36%\n",
      "Epoch 11: loss=0.67, train accuracy 90.54%, validation accuracy 89.24%\n",
      "Epoch 12: loss=0.65, train accuracy 90.85%, validation accuracy 89.08%\n",
      "Epoch 13: loss=0.62, train accuracy 91.03%, validation accuracy 89.34%\n",
      "Epoch 14: loss=0.60, train accuracy 91.37%, validation accuracy 89.50%\n",
      "Epoch 15: loss=0.58, train accuracy 91.49%, validation accuracy 89.48%\n",
      "Epoch 16: loss=0.47, train accuracy 91.95%, validation accuracy 89.78%\n",
      "Epoch 17: loss=0.41, train accuracy 91.85%, validation accuracy 89.74%\n",
      "Epoch 18: loss=0.37, train accuracy 91.97%, validation accuracy 89.76%\n",
      "Epoch 19: loss=0.35, train accuracy 92.31%, validation accuracy 89.64%\n",
      "Epoch 20: loss=0.33, train accuracy 92.53%, validation accuracy 90.00%\n",
      "Epoch 21: loss=0.32, train accuracy 92.47%, validation accuracy 89.92%\n",
      "Epoch 22: loss=0.31, train accuracy 92.51%, validation accuracy 90.12%\n",
      "Epoch 23: loss=0.30, train accuracy 92.75%, validation accuracy 90.30%\n",
      "Epoch 24: loss=0.29, train accuracy 93.07%, validation accuracy 90.30%\n",
      "Epoch 25: loss=0.28, train accuracy 93.13%, validation accuracy 90.18%\n",
      "Epoch 26: loss=0.28, train accuracy 93.17%, validation accuracy 90.20%\n",
      "Epoch 27: loss=0.27, train accuracy 93.27%, validation accuracy 90.18%\n",
      "Epoch 28: loss=0.27, train accuracy 93.21%, validation accuracy 90.26%\n",
      "Epoch 29: loss=0.26, train accuracy 93.47%, validation accuracy 90.34%\n"
     ]
    },
    {
     "data": {
      "text/plain": [
       "[<matplotlib.lines.Line2D at 0x7f5078f93190>]"
      ]
     },
     "execution_count": 29,
     "metadata": {},
     "output_type": "execute_result"
    },
    {
     "data": {
      "image/png": "[encoded data removed]",
      "text/plain": [
       "<Figure size 432x288 with 1 Axes>"
      ]
     },
     "metadata": {
      "needs_background": "light"
     },
     "output_type": "display_data"
    }
   ],
   "source": [
    "num_epochs = 30 \n",
    "learning_rate = 0.01\n",
    "losses = []\n",
    "train_accs = []\n",
    "valid_accs = []\n",
    "\n",
    "linear_1.reset_parameters()\n",
    "linear_2.reset_parameters()\n",
    "\n",
    "for epoch in range(num_epochs):\n",
    "    total_images_train = 0\n",
    "    total_correct_train = 0\n",
    "\n",
    "    for images, labels in dataloaders.train:\n",
    "        images = cast(images, Tensor)\n",
    "        labels = cast(labels, Tensor)\n",
    "        logits = model(images)\n",
    "        loss = F.cross_entropy(logits, labels, reduction='none').mean()\n",
    "        loss.backward()\n",
    "        for parameter in model.parameters():\n",
    "            parameter.data -= learning_rate * parameter.grad\n",
    "        model.zero_grad()\n",
    "        predictions = logits.argmax(axis=1)\n",
    "        num_accurate = (predictions == labels).sum()\n",
    "        total_images_train += len(labels)\n",
    "        total_correct_train += num_accurate\n",
    "        losses.append(loss.item())\n",
    "    train_acc = 100 * total_correct_train / total_images_train\n",
    "    train_accs.append(train_acc)\n",
    "\n",
    "\n",
    "    model.eval()\n",
    "    total_images_valid = 0\n",
    "    total_correct_valid = 0\n",
    "\n",
    "    for images, labels in dataloaders.valid:\n",
    "        images = cast(images, Tensor) \n",
    "        labels = cast(labels, Tensor)\n",
    "        with torch.no_grad():\n",
    "            logits = model(images)\n",
    "            loss = F.cross_entropy(logits, labels, reduction='none').mean()\n",
    "        predictions = logits.argmax(axis=1)\n",
    "        num_accurate = (predictions == labels).sum()\n",
    "        total_images_valid += len(labels)\n",
    "        total_correct_valid += num_accurate\n",
    "    valid_acc = 100 * total_correct_valid / total_images_valid\n",
    "    valid_accs.append(valid_acc)\n",
    "\n",
    "    avg_loss_this_epoch = np.mean(losses[-total_images_train:])\n",
    "    print(f\"Epoch {epoch:2d}: loss={avg_loss_this_epoch:.2f}, train accuracy {train_acc:.2f}%, validation accuracy {valid_acc:.2f}%\")\n",
    "\n",
    "pd.Series(losses).ewm(alpha = .1).mean().plot()\n",
    "plt.xlabel(\"Iteration\")\n",
    "plt.ylabel(\"Cross-Entropy Loss\");\n",
    "plt.plot(avg_loss_this_epoch, label=\"Validation loss\")\n"
   ]
  },
  {
   "cell_type": "markdown",
   "id": "5b3f0cdd",
   "metadata": {},
   "source": [
    "**Reflective Question**"
   ]
  },
  {
   "cell_type": "markdown",
   "id": "6f4a22e1",
   "metadata": {},
   "source": [
    "**What did you learn about neural networks from this exercise?**\n"
   ]
  },
  {
   "cell_type": "markdown",
   "id": "340b5e1f",
   "metadata": {},
   "source": [
    "In this exercise, we used neural network to classify images of hand written digits. Neural network has layers, meaning it consitsts of one or more layers of nuerons. We used neural network with input later, hidden layers, and output layer. Because it needs training, we have trained these nueral layers and also validated each epochs. I also have learned that there are \"Hidden Layers\" and we have used two hidden layers. "
   ]
  },
  {
   "cell_type": "markdown",
   "id": "e6ff1f35",
   "metadata": {},
   "source": [
    "**What did you learn about your own problem-solving process?**"
   ]
  },
  {
   "cell_type": "markdown",
   "id": "a7bd5209",
   "metadata": {},
   "source": [
    "Building from the scratch, I had a chance to realize what I was not understanding from lessons learned until now. Specifically, I have learned about what train, validation, test models are and how they differs from each other. Also by breaking down the complex problem to a more simpler and step by step progress, I was able to see hown approach more complex problem in a more manageable manner. "
   ]
  },
  {
   "cell_type": "markdown",
   "id": "de6b8289",
   "metadata": {},
   "source": [
    "**How would you describe this experience in a job interview?**"
   ]
  },
  {
   "cell_type": "markdown",
   "id": "b7199732",
   "metadata": {},
   "source": [
    "I would talk about 3 main things about this experience.</br></br>\n",
    "- Problem solving skills: I would discuss about how I was building image classifying ml model from scratch, and what kind of difficulties I had. I would explain the process how I broke up things to look at the project in a more simpler manner. </br></br>\n",
    "- technical skills: I would discuss about how I used python tensor and pytorch libraries and my understandings on train, validation, and test models. </br></br>\n",
    "- Process or self-learning and growth: I would explain how I was very confused and lost in the beginning as I had trouble understanding the content, but through researches on internet and investing some time learning before coding and debugging, I was able to speed up my process and figure out what I was supposed to do."
   ]
  }
 ],
 "metadata": {
  "kernelspec": {
   "display_name": "Python 3 (ipykernel)",
   "language": "python",
   "name": "python3"
  },
  "language_info": {
   "codemirror_mode": {
    "name": "ipython",
    "version": 3
   },
   "file_extension": ".py",
   "mimetype": "text/x-python",
   "name": "python",
   "nbconvert_exporter": "python",
   "pygments_lexer": "ipython3",
   "version": "3.9.12"
  }
 },
 "nbformat": 4,
 "nbformat_minor": 5
}
